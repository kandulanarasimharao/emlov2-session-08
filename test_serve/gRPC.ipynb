{
 "cells": [
  {
   "cell_type": "code",
   "execution_count": 8,
   "id": "08b410a7",
   "metadata": {},
   "outputs": [
    {
     "name": "stdout",
     "output_type": "stream",
     "text": [
      "/home/jupyter-vit_abhinav/Narasimha/emlov2-session-08\n"
     ]
    }
   ],
   "source": [
    "%cd .."
   ]
  },
  {
   "cell_type": "code",
   "execution_count": 10,
   "id": "ac73d358",
   "metadata": {},
   "outputs": [
    {
     "name": "stdout",
     "output_type": "stream",
     "text": [
      "/home/jupyter-vit_abhinav/Narasimha/emlov2-session-08/serve\n"
     ]
    }
   ],
   "source": [
    "%cd serve"
   ]
  },
  {
   "cell_type": "code",
   "execution_count": 11,
   "id": "881db04b",
   "metadata": {},
   "outputs": [
    {
     "name": "stdout",
     "output_type": "stream",
     "text": [
      "Defaulting to user installation because normal site-packages is not writeable\n",
      "Requirement already satisfied: grpcio in /home/jupyter-vit_abhinav/.local/lib/python3.9/site-packages (1.50.0)\n",
      "Requirement already satisfied: protobuf in /home/jupyter-vit_abhinav/.local/lib/python3.9/site-packages (4.21.9)\n",
      "Requirement already satisfied: grpcio-tools in /home/jupyter-vit_abhinav/.local/lib/python3.9/site-packages (1.50.0)\n",
      "Requirement already satisfied: six>=1.5.2 in /opt/tljh/user/lib/python3.9/site-packages (from grpcio) (1.16.0)\n",
      "Requirement already satisfied: setuptools in /home/jupyter-vit_abhinav/.local/lib/python3.9/site-packages (from grpcio-tools) (59.5.0)\n"
     ]
    }
   ],
   "source": [
    "!pip install -U grpcio protobuf grpcio-tools"
   ]
  },
  {
   "cell_type": "code",
   "execution_count": 12,
   "id": "a5e8e56a",
   "metadata": {},
   "outputs": [],
   "source": [
    "!python -m grpc_tools.protoc --proto_path=frontend/server/src/main/resources/proto/ --python_out=ts_scripts --grpc_python_out=ts_scripts frontend/server/src/main/resources/proto/inference.proto frontend/server/src/main/resources/proto/management.proto"
   ]
  },
  {
   "cell_type": "code",
   "execution_count": 13,
   "id": "3a6d82b4",
   "metadata": {},
   "outputs": [
    {
     "name": "stdout",
     "output_type": "stream",
     "text": [
      "{\r\n",
      "  \"airplane\": 0.9999927282333374,\r\n",
      "  \"ship\": 3.7937904835416703e-06,\r\n",
      "  \"bird\": 2.577309714979492e-06,\r\n",
      "  \"automobile\": 7.294852366612758e-07,\r\n",
      "  \"deer\": 1.0230785818521326e-07\r\n",
      "}\r\n"
     ]
    }
   ],
   "source": [
    "!python ts_scripts/torchserve_grpc_client.py infer cifar ../cifar10_test_data/airplane.png"
   ]
  },
  {
   "cell_type": "code",
   "execution_count": 14,
   "id": "4d2d149e",
   "metadata": {},
   "outputs": [
    {
     "name": "stdout",
     "output_type": "stream",
     "text": [
      "{\r\n",
      "  \"automobile\": 0.832564115524292,\r\n",
      "  \"truck\": 0.16743433475494385,\r\n",
      "  \"ship\": 1.3434921584121184e-06,\r\n",
      "  \"dog\": 1.805158689194286e-07,\r\n",
      "  \"airplane\": 2.29980887667125e-08\r\n",
      "}\r\n"
     ]
    }
   ],
   "source": [
    "!python ts_scripts/torchserve_grpc_client.py infer cifar ../cifar10_test_data/automobile.png"
   ]
  },
  {
   "cell_type": "code",
   "execution_count": 15,
   "id": "97552166",
   "metadata": {},
   "outputs": [
    {
     "name": "stdout",
     "output_type": "stream",
     "text": [
      "{\r\n",
      "  \"bird\": 0.9656414985656738,\r\n",
      "  \"dog\": 0.027102936059236526,\r\n",
      "  \"airplane\": 0.006415374577045441,\r\n",
      "  \"frog\": 0.0004992508911527693,\r\n",
      "  \"cat\": 0.0003268567379564047\r\n",
      "}\r\n"
     ]
    }
   ],
   "source": [
    "!python ts_scripts/torchserve_grpc_client.py infer cifar ../cifar10_test_data/bird.png"
   ]
  },
  {
   "cell_type": "code",
   "execution_count": 16,
   "id": "c0d56db5",
   "metadata": {},
   "outputs": [
    {
     "name": "stdout",
     "output_type": "stream",
     "text": [
      "{\r\n",
      "  \"cat\": 0.9743612408638,\r\n",
      "  \"dog\": 0.02537747658789158,\r\n",
      "  \"frog\": 0.00021212399587966502,\r\n",
      "  \"horse\": 3.0037646865821443e-05,\r\n",
      "  \"bird\": 1.2684955436270684e-05\r\n",
      "}\r\n"
     ]
    }
   ],
   "source": [
    "!python ts_scripts/torchserve_grpc_client.py infer cifar ../cifar10_test_data/cat.png"
   ]
  },
  {
   "cell_type": "code",
   "execution_count": 17,
   "id": "1e213bfd",
   "metadata": {},
   "outputs": [
    {
     "name": "stdout",
     "output_type": "stream",
     "text": [
      "{\r\n",
      "  \"deer\": 0.9999904632568359,\r\n",
      "  \"horse\": 8.714591785974335e-06,\r\n",
      "  \"truck\": 5.866285164302099e-07,\r\n",
      "  \"dog\": 2.7272668035038805e-07,\r\n",
      "  \"cat\": 2.8473543522977707e-08\r\n",
      "}\r\n"
     ]
    }
   ],
   "source": [
    "!python ts_scripts/torchserve_grpc_client.py infer cifar ../cifar10_test_data/deer.png"
   ]
  },
  {
   "cell_type": "code",
   "execution_count": 18,
   "id": "4718574c",
   "metadata": {},
   "outputs": [
    {
     "name": "stdout",
     "output_type": "stream",
     "text": [
      "{\r\n",
      "  \"dog\": 1.0,\r\n",
      "  \"cat\": 2.475518812161681e-08,\r\n",
      "  \"frog\": 1.08763844285098e-12,\r\n",
      "  \"bird\": 2.0953575788525136e-13,\r\n",
      "  \"deer\": 8.81481709456497e-14\r\n",
      "}\r\n"
     ]
    }
   ],
   "source": [
    "!python ts_scripts/torchserve_grpc_client.py infer cifar ../cifar10_test_data/dog.png"
   ]
  },
  {
   "cell_type": "code",
   "execution_count": 19,
   "id": "1f738875",
   "metadata": {},
   "outputs": [
    {
     "data": {
      "text/plain": [
       "['{',\n",
       " '  \"frog\": 0.988166332244873,',\n",
       " '  \"bird\": 0.01020173542201519,',\n",
       " '  \"dog\": 0.0012474966933950782,',\n",
       " '  \"cat\": 0.00034989090636372566,',\n",
       " '  \"deer\": 2.326522189832758e-05',\n",
       " '}']"
      ]
     },
     "execution_count": 19,
     "metadata": {},
     "output_type": "execute_result"
    }
   ],
   "source": [
    "!!python ts_scripts/torchserve_grpc_client.py infer cifar ../cifar10_test_data/frog.png"
   ]
  },
  {
   "cell_type": "code",
   "execution_count": 20,
   "id": "ad0f5e07",
   "metadata": {},
   "outputs": [
    {
     "name": "stdout",
     "output_type": "stream",
     "text": [
      "{\r\n",
      "  \"horse\": 0.9999991655349731,\r\n",
      "  \"deer\": 6.618508336941886e-07,\r\n",
      "  \"airplane\": 1.1458633508709681e-07,\r\n",
      "  \"truck\": 8.533584150427487e-08,\r\n",
      "  \"dog\": 1.5536544495375892e-08\r\n",
      "}\r\n"
     ]
    }
   ],
   "source": [
    "!python ts_scripts/torchserve_grpc_client.py infer cifar ../cifar10_test_data/horse.png"
   ]
  },
  {
   "cell_type": "code",
   "execution_count": 21,
   "id": "768fe6fe",
   "metadata": {},
   "outputs": [
    {
     "name": "stdout",
     "output_type": "stream",
     "text": [
      "{\r\n",
      "  \"ship\": 0.9999086856842041,\r\n",
      "  \"truck\": 8.932590571930632e-05,\r\n",
      "  \"airplane\": 1.4176154081724235e-06,\r\n",
      "  \"bird\": 3.8508019883920497e-07,\r\n",
      "  \"automobile\": 1.541154688311508e-07\r\n",
      "}\r\n"
     ]
    }
   ],
   "source": [
    "!python ts_scripts/torchserve_grpc_client.py infer cifar ../cifar10_test_data/ship.png"
   ]
  },
  {
   "cell_type": "code",
   "execution_count": 22,
   "id": "3ebe19e2",
   "metadata": {},
   "outputs": [
    {
     "name": "stdout",
     "output_type": "stream",
     "text": [
      "{\r\n",
      "  \"truck\": 1.0,\r\n",
      "  \"automobile\": 1.1637363961369829e-08,\r\n",
      "  \"ship\": 2.9408266932762217e-09,\r\n",
      "  \"airplane\": 6.47714607643346e-12,\r\n",
      "  \"cat\": 2.7804457954777595e-12\r\n",
      "}\r\n"
     ]
    }
   ],
   "source": [
    "!python ts_scripts/torchserve_grpc_client.py infer cifar ../cifar10_test_data/truck.png"
   ]
  }
 ],
 "metadata": {
  "kernelspec": {
   "display_name": "Python 3 (ipykernel)",
   "language": "python",
   "name": "python3"
  },
  "language_info": {
   "codemirror_mode": {
    "name": "ipython",
    "version": 3
   },
   "file_extension": ".py",
   "mimetype": "text/x-python",
   "name": "python",
   "nbconvert_exporter": "python",
   "pygments_lexer": "ipython3",
   "version": "3.9.7"
  }
 },
 "nbformat": 4,
 "nbformat_minor": 5
}
